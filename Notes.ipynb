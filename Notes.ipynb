{
  "nbformat": 4,
  "nbformat_minor": 0,
  "metadata": {
    "colab": {
      "name": "Notes.ipynb",
      "provenance": [],
      "collapsed_sections": [
        "R4Tup1obNG7k"
      ],
      "toc_visible": true,
      "include_colab_link": true
    },
    "kernelspec": {
      "name": "python3",
      "display_name": "Python 3"
    }
  },
  "cells": [
    {
      "cell_type": "markdown",
      "metadata": {
        "id": "view-in-github",
        "colab_type": "text"
      },
      "source": [
        "<a href=\"https://colab.research.google.com/github/carloslme/brewing-data/blob/main/Notes.ipynb\" target=\"_parent\"><img src=\"https://colab.research.google.com/assets/colab-badge.svg\" alt=\"Open In Colab\"/></a>"
      ]
    },
    {
      "cell_type": "markdown",
      "metadata": {
        "id": "R4Tup1obNG7k"
      },
      "source": [
        "#Notas"
      ]
    },
    {
      "cell_type": "markdown",
      "metadata": {
        "id": "1kQWgjSyGfk2"
      },
      "source": [
        "\n",
        "**Problemas probables:**\n",
        "- Estimar la demanda de cada uno de los puntos\n",
        "- Minimizar las entregas\n",
        "- Crear seis clusters a partir de la ubicación \n",
        "- Zonas de peligro (variables de riesgo)\n",
        "- Variables de consumo promedio\n",
        "- Capacidades del distribuidor\n",
        "- Consumo/gasto de combustible\n",
        "- Pedidos por temporada (demanda)\n",
        "- Riesgos de \n",
        "\n",
        "**Soluciones:**\n",
        "Encontrar similitudes entre territorios\n",
        "> Dijkstra\n",
        "- Minimización de recorrido (buscar algoritmos con ML)\n",
        "- Maximización de reparto (buscar algoritmos con ML)\n",
        "\n",
        "\n",
        "\n",
        "**Preguntas**\n",
        "- ¿Cómo las empresas de entrega de paquetes gestionan la logística de distribución?\n",
        "- ¿Cómo se distribuye la Coca-Cola/Pepsi/Bimbo en México?\n",
        "- ¿Cuáles son los mayores retos acutales y cómo los resuelven?\n",
        "- ¿Cómo miden el consumo promedio?\n",
        "- \n",
        "\n",
        "**Reglas**\n",
        "- Un centro de distribción dividido en 6 territorios\n",
        "- Entregar 1 territorio cada día (6 días laborables)\n",
        "- Garantizar que la distancia recorrida sea mínima\n",
        "- No exceder la capacidad de reparto por día (zonas balanceadas por volumen).\n",
        "- Los territorios deben estar en función de la frecuencia de visita al cliente\n",
        "- Todos los territorios deben tener la misma cantidad de clientes (zonas balanceadas por número de clientes).\n",
        "- Reducir los tiempos de entrega (considerar recorridos dinámicos en clusters de tipo urbano).\n",
        "- \n",
        "\n",
        "\n",
        "**Notas de Julio**\n",
        "\"lo que dices está bien, se me ocurren un par de cosas más que probar. No te quiero sesgar, solo ofrecerte más ideas, igual y se te ocurre algo mejor:\n",
        "si tienes la ubicaciones de los clientes, y tienes que repartir en periodos de 6 días, crear 6 clusters a partir de la ubicación, luego dentro de los clusters resultantes estimar la demanda con un intervalo de confianza (evitar sub abasto)\n",
        "si tienes la ubicaciones de tus clientes, u resuelves como agruparlos implementar algoritmo de ruta más corta\n",
        "si se me ocurre algo más, te aviso. También si te hacen llegar el data set, se vuelve más fácil proponer\"\n",
        "\n",
        "\"y luego sobre los clusters calcular la suma de la demanda historica, mas algo basado en la desviacion para garantizar que siempre les vas a abastecer, y finalmente algoritmo de Dijkstra sobre cada uno de los 6 clusters para crear la ruta\"\n"
      ]
    },
    {
      "cell_type": "markdown",
      "metadata": {
        "id": "AD6SjB1PNGH5"
      },
      "source": [
        ""
      ]
    },
    {
      "cell_type": "code",
      "metadata": {
        "id": "H9anxoJ7GZga"
      },
      "source": [
        "https://medium.com/@aaronhma/hands-on-ml-edition-2-by-aerolien-geron-summary-part-1-546617adfcc7\n",
        "https://www.kaggle.com/ghoshsaptarshi/av-genpact-hack-dec2018\n"
      ],
      "execution_count": null,
      "outputs": []
    },
    {
      "cell_type": "markdown",
      "metadata": {
        "id": "JTMxxeoLPEOq"
      },
      "source": [
        "#Obtención de datos"
      ]
    },
    {
      "cell_type": "code",
      "metadata": {
        "id": "mrMa4ohxPOJl"
      },
      "source": [
        "import pandas as pd\n",
        "import numpy as np\n",
        "import seaborn as sns\n",
        "import seaborn as _sns\n",
        "import matplotlib.pyplot as plt\n",
        "\n",
        "data = pd.DataFrame()\n",
        "def load_data(): \n",
        "\n",
        "  data = pd.read_csv(\"https://raw.githubusercontent.com/brewing-datacup/reto-mexico-2020/main/data/ubicaciones.csv\")\n",
        "\n",
        "  data['Vol_Total_Entrega'] = data['Vol_Entrega'] * data['Frecuencia']\n",
        "  #ax = sns.boxplot(x = data[\"Frecuencia\"], y = data[\"Vol_Total_Entrega\"])\n",
        "  return data"
      ],
      "execution_count": null,
      "outputs": []
    },
    {
      "cell_type": "markdown",
      "metadata": {
        "id": "xQhxun4uN5Qm"
      },
      "source": [
        "# Analisis de los datos"
      ]
    },
    {
      "cell_type": "code",
      "metadata": {
        "colab": {
          "base_uri": "https://localhost:8080/",
          "height": 285
        },
        "id": "pQkOGUHJOCSi",
        "outputId": "d354d5ea-ab33-4d5a-c940-c210f28e8fc8"
      },
      "source": [
        "sns.set_theme(style=\"whitegrid\")\n",
        "ax = sns.boxplot(x = data[\"Frecuencia\"], y = data[\"Vol_Entrega\"])"
      ],
      "execution_count": null,
      "outputs": [
        {
          "output_type": "display_data",
          "data": {
            "image/png": "[encoded data removed]",
            "text/plain": [
              "<Figure size 432x288 with 1 Axes>"
            ]
          },
          "metadata": {
            "tags": []
          }
        }
      ]
    },
    {
      "cell_type": "code",
      "metadata": {
        "colab": {
          "base_uri": "https://localhost:8080/",
          "height": 465
        },
        "id": "3Kuojw9lOEbg",
        "outputId": "be62661d-1350-4bdb-d2c6-11f04d539087"
      },
      "source": [
        "data['Vol_Total_Entrega'] = data['Vol_Entrega'] * data['Frecuencia']\n",
        "ax = sns.boxplot(x = data[\"Frecuencia\"], y = data[\"Vol_Total_Entrega\"])\n",
        "data.head(5)"
      ],
      "execution_count": null,
      "outputs": [
        {
          "output_type": "execute_result",
          "data": {
            "text/html": [
              "<div>\n",
              "<style scoped>\n",
              "    .dataframe tbody tr th:only-of-type {\n",
              "        vertical-align: middle;\n",
              "    }\n",
              "\n",
              "    .dataframe tbody tr th {\n",
              "        vertical-align: top;\n",
              "    }\n",
              "\n",
              "    .dataframe thead th {\n",
              "        text-align: right;\n",
              "    }\n",
              "</style>\n",
              "<table border=\"1\" class=\"dataframe\">\n",
              "  <thead>\n",
              "    <tr style=\"text-align: right;\">\n",
              "      <th></th>\n",
              "      <th>Id_Cliente</th>\n",
              "      <th>id_Agencia</th>\n",
              "      <th>Frecuencia</th>\n",
              "      <th>Vol_Entrega</th>\n",
              "      <th>lat</th>\n",
              "      <th>lon</th>\n",
              "      <th>Vol_Total_Entrega</th>\n",
              "    </tr>\n",
              "  </thead>\n",
              "  <tbody>\n",
              "    <tr>\n",
              "      <th>0</th>\n",
              "      <td>1</td>\n",
              "      <td>A1</td>\n",
              "      <td>1</td>\n",
              "      <td>2.0</td>\n",
              "      <td>20.506052</td>\n",
              "      <td>-98.212377</td>\n",
              "      <td>2.0</td>\n",
              "    </tr>\n",
              "    <tr>\n",
              "      <th>1</th>\n",
              "      <td>2</td>\n",
              "      <td>A1</td>\n",
              "      <td>1</td>\n",
              "      <td>17.0</td>\n",
              "      <td>20.458128</td>\n",
              "      <td>-98.221248</td>\n",
              "      <td>17.0</td>\n",
              "    </tr>\n",
              "    <tr>\n",
              "      <th>2</th>\n",
              "      <td>3</td>\n",
              "      <td>A1</td>\n",
              "      <td>1</td>\n",
              "      <td>2.0</td>\n",
              "      <td>20.530427</td>\n",
              "      <td>-98.236860</td>\n",
              "      <td>2.0</td>\n",
              "    </tr>\n",
              "    <tr>\n",
              "      <th>3</th>\n",
              "      <td>4</td>\n",
              "      <td>A1</td>\n",
              "      <td>3</td>\n",
              "      <td>15.0</td>\n",
              "      <td>20.488655</td>\n",
              "      <td>-98.202940</td>\n",
              "      <td>45.0</td>\n",
              "    </tr>\n",
              "    <tr>\n",
              "      <th>4</th>\n",
              "      <td>5</td>\n",
              "      <td>A1</td>\n",
              "      <td>1</td>\n",
              "      <td>2.0</td>\n",
              "      <td>20.533253</td>\n",
              "      <td>-98.219669</td>\n",
              "      <td>2.0</td>\n",
              "    </tr>\n",
              "  </tbody>\n",
              "</table>\n",
              "</div>"
            ],
            "text/plain": [
              "   Id_Cliente id_Agencia  Frecuencia  ...        lat        lon  Vol_Total_Entrega\n",
              "0           1         A1           1  ...  20.506052 -98.212377                2.0\n",
              "1           2         A1           1  ...  20.458128 -98.221248               17.0\n",
              "2           3         A1           1  ...  20.530427 -98.236860                2.0\n",
              "3           4         A1           3  ...  20.488655 -98.202940               45.0\n",
              "4           5         A1           1  ...  20.533253 -98.219669                2.0\n",
              "\n",
              "[5 rows x 7 columns]"
            ]
          },
          "metadata": {
            "tags": []
          },
          "execution_count": 24
        },
        {
          "output_type": "display_data",
          "data": {
            "image/png": "[encoded data removed]",
            "text/plain": [
              "<Figure size 432x288 with 1 Axes>"
            ]
          },
          "metadata": {
            "tags": [],
            "needs_background": "light"
          }
        }
      ]
    },
    {
      "cell_type": "code",
      "metadata": {
        "colab": {
          "base_uri": "https://localhost:8080/",
          "height": 481
        },
        "id": "8cQXRh0iOLX5",
        "outputId": "9e4e3678-3271-4293-92e1-aa418c7d3e13"
      },
      "source": [
        "plt.figure(figsize = (10, 7))\n",
        "\n",
        "sns.kdeplot(data.loc[ data['Frecuencia'] == 1 , 'Vol_Total_Entrega'], label = 'Freq1', shade = True)\n",
        "sns.kdeplot(data.loc[ data['Frecuencia'] == 2 , 'Vol_Total_Entrega'], label = 'Freq2', shade = True)\n",
        "sns.kdeplot(data.loc[ data['Frecuencia'] == 3 , 'Vol_Total_Entrega'], label = 'Freq3', shade = True)\n",
        "\n",
        "plt.xlabel('Vol_Total_Entrega')\n",
        "plt.title('Vol Total Entrega')"
      ],
      "execution_count": null,
      "outputs": [
        {
          "output_type": "execute_result",
          "data": {
            "text/plain": [
              "Text(0.5, 1.0, 'Vol Total Entrega')"
            ]
          },
          "metadata": {
            "tags": []
          },
          "execution_count": 4
        },
        {
          "output_type": "display_data",
          "data": {
            "image/png": "[encoded data removed]",
            "text/plain": [
              "<Figure size 720x504 with 1 Axes>"
            ]
          },
          "metadata": {
            "tags": []
          }
        }
      ]
    },
    {
      "cell_type": "code",
      "metadata": {
        "colab": {
          "base_uri": "https://localhost:8080/",
          "height": 203
        },
        "id": "hSNq0v3rWIS6",
        "outputId": "f0466240-f96b-4b17-fd5b-5ac37d0e50e2"
      },
      "source": [
        "data.head(5)"
      ],
      "execution_count": null,
      "outputs": [
        {
          "output_type": "execute_result",
          "data": {
            "text/html": [
              "<div>\n",
              "<style scoped>\n",
              "    .dataframe tbody tr th:only-of-type {\n",
              "        vertical-align: middle;\n",
              "    }\n",
              "\n",
              "    .dataframe tbody tr th {\n",
              "        vertical-align: top;\n",
              "    }\n",
              "\n",
              "    .dataframe thead th {\n",
              "        text-align: right;\n",
              "    }\n",
              "</style>\n",
              "<table border=\"1\" class=\"dataframe\">\n",
              "  <thead>\n",
              "    <tr style=\"text-align: right;\">\n",
              "      <th></th>\n",
              "      <th>Id_Cliente</th>\n",
              "      <th>id_Agencia</th>\n",
              "      <th>Frecuencia</th>\n",
              "      <th>Vol_Entrega</th>\n",
              "      <th>lat</th>\n",
              "      <th>lon</th>\n",
              "      <th>Vol_Total_Entrega</th>\n",
              "    </tr>\n",
              "  </thead>\n",
              "  <tbody>\n",
              "    <tr>\n",
              "      <th>0</th>\n",
              "      <td>1</td>\n",
              "      <td>A1</td>\n",
              "      <td>1</td>\n",
              "      <td>2.0</td>\n",
              "      <td>20.506052</td>\n",
              "      <td>-98.212377</td>\n",
              "      <td>2.0</td>\n",
              "    </tr>\n",
              "    <tr>\n",
              "      <th>1</th>\n",
              "      <td>2</td>\n",
              "      <td>A1</td>\n",
              "      <td>1</td>\n",
              "      <td>17.0</td>\n",
              "      <td>20.458128</td>\n",
              "      <td>-98.221248</td>\n",
              "      <td>17.0</td>\n",
              "    </tr>\n",
              "    <tr>\n",
              "      <th>2</th>\n",
              "      <td>3</td>\n",
              "      <td>A1</td>\n",
              "      <td>1</td>\n",
              "      <td>2.0</td>\n",
              "      <td>20.530427</td>\n",
              "      <td>-98.236860</td>\n",
              "      <td>2.0</td>\n",
              "    </tr>\n",
              "    <tr>\n",
              "      <th>3</th>\n",
              "      <td>4</td>\n",
              "      <td>A1</td>\n",
              "      <td>3</td>\n",
              "      <td>15.0</td>\n",
              "      <td>20.488655</td>\n",
              "      <td>-98.202940</td>\n",
              "      <td>45.0</td>\n",
              "    </tr>\n",
              "    <tr>\n",
              "      <th>4</th>\n",
              "      <td>5</td>\n",
              "      <td>A1</td>\n",
              "      <td>1</td>\n",
              "      <td>2.0</td>\n",
              "      <td>20.533253</td>\n",
              "      <td>-98.219669</td>\n",
              "      <td>2.0</td>\n",
              "    </tr>\n",
              "  </tbody>\n",
              "</table>\n",
              "</div>"
            ],
            "text/plain": [
              "   Id_Cliente id_Agencia  Frecuencia  ...        lat        lon  Vol_Total_Entrega\n",
              "0           1         A1           1  ...  20.506052 -98.212377                2.0\n",
              "1           2         A1           1  ...  20.458128 -98.221248               17.0\n",
              "2           3         A1           1  ...  20.530427 -98.236860                2.0\n",
              "3           4         A1           3  ...  20.488655 -98.202940               45.0\n",
              "4           5         A1           1  ...  20.533253 -98.219669                2.0\n",
              "\n",
              "[5 rows x 7 columns]"
            ]
          },
          "metadata": {
            "tags": []
          },
          "execution_count": 4
        }
      ]
    },
    {
      "cell_type": "markdown",
      "metadata": {
        "id": "botsBROVNPGV"
      },
      "source": [
        "# Preprocesamiento de datos\n"
      ]
    },
    {
      "cell_type": "markdown",
      "metadata": {
        "id": "pC9IGdzTTdWX"
      },
      "source": [
        "### Removiendo outliers"
      ]
    },
    {
      "cell_type": "code",
      "metadata": {
        "id": "Lb2IGmQNg_Hj",
        "colab": {
          "base_uri": "https://localhost:8080/",
          "height": 481
        },
        "outputId": "d751bde4-0ff8-4f43-c5c5-b4968c765e3e"
      },
      "source": [
        "# filter_1 = data[data['Frecuencia'] == 1]\n",
        "\n",
        "\n",
        "def remove_outlier(data, range=1.5, debug=False):\n",
        "  var = ['Vol_Total_Entrega', 'Vol_Entrega']\n",
        "\n",
        "  filter01 = data['Frecuencia'] == 1\n",
        "  p_25_freq_1 = data[filter01][var].quantile(0.25)\n",
        "  p_75_freq_1 = data[filter01][var].quantile(0.75)\n",
        "\n",
        "  filter02 = data['Frecuencia'] == 2\n",
        "  p_25_freq_2 = data[filter02][var].quantile(0.25)\n",
        "  p_75_freq_2 = data[filter02][var].quantile(0.75)\n",
        "\n",
        "  filter03 = data['Frecuencia'] == 3\n",
        "  p_25_freq_3 = data[filter03][var].quantile(0.25)\n",
        "  p_75_freq_3 = data[filter03][var].quantile(0.75)\n",
        "\n",
        "  IQR_freq_1 = p_75_freq_1 - p_25_freq_1\n",
        "  IQR_freq_2 = p_75_freq_2 - p_25_freq_2\n",
        "  IQR_freq_3 = p_75_freq_3 - p_25_freq_3\n",
        "\n",
        "  low_freq_1 = p_25_freq_1 - 1.5 * IQR_freq_1\n",
        "  high_freq_1 = p_75_freq_1 + range * IQR_freq_1 \n",
        "\n",
        "  low_freq_2 = p_25_freq_2 - 1.5 * IQR_freq_2\n",
        "  high_freq_2 = p_75_freq_2 + range * IQR_freq_2\n",
        "\n",
        "  low_freq_3 = p_25_freq_3 - 1.5 * IQR_freq_3\n",
        "  high_freq_3 = p_75_freq_3 + 1.5 * IQR_freq_3\n",
        "\n",
        "  data[filter01] = data[filter01][~((data[filter01].loc[:,var] < (low_freq_1)) | (data[filter01].loc[:,var] > (high_freq_1))).any(axis=1)]\n",
        "  data[filter02] = data[filter02][~((data[filter02].loc[:,var] < (low_freq_2)) | (data[filter02].loc[:,var] > (high_freq_2))).any(axis=1)]\n",
        "  data[filter03] = data[filter03][~((data[filter03].loc[:,var] < (low_freq_3)) | (data[filter03].loc[:,var] > (high_freq_3))).any(axis=1)]\n",
        "  \n",
        "  print('[INFO] Dataset size:', data.shape)\n",
        "\n",
        "  plt.figure(figsize = (10, 7))\n",
        "\n",
        "  sns.kdeplot(data.loc[data['Frecuencia'] == 1 , 'Vol_Total_Entrega'], label = 'Freq1', shade = True)\n",
        "  sns.kdeplot(data.loc[data['Frecuencia'] == 2 , 'Vol_Total_Entrega'], label = 'Freq2', shade = True)\n",
        "  sns.kdeplot(data.loc[data['Frecuencia'] == 3 , 'Vol_Total_Entrega'], label = 'Freq3', shade = True)\n",
        "\n",
        "  plt.xlabel('Vol_Total_Entrega')\n",
        "  plt.title('Vol Total Entrega')\n",
        "  \n",
        "  def plot_outlier(data):\n",
        "    sns.set_theme(style=\"whitegrid\")\n",
        "    ax = sns.boxplot(x = data[\"Frecuencia\"], y = data[\"Vol_Entrega\"])\n",
        "  \n",
        "  if debug:\n",
        "    plot_outlier(data)\n",
        "\n",
        "for i in range(0,1):\n",
        "  data = load_data()\n",
        "  remove_outlier(data, range = 0.4, debug=True)\n",
        "#remove_outlier(data, range=2)"
      ],
      "execution_count": null,
      "outputs": [
        {
          "output_type": "stream",
          "text": [
            "[INFO] Dataset size: (3625, 7)\n"
          ],
          "name": "stdout"
        },
        {
          "output_type": "display_data",
          "data": {
            "image/png": "[encoded data removed]",
            "text/plain": [
              "<Figure size 720x504 with 1 Axes>"
            ]
          },
          "metadata": {
            "tags": []
          }
        }
      ]
    },
    {
      "cell_type": "code",
      "metadata": {
        "id": "6DIZ436lm-ci",
        "colab": {
          "base_uri": "https://localhost:8080/",
          "height": 417
        },
        "outputId": "507bdb60-80ab-4152-a027-5276066eee3a"
      },
      "source": [
        "data.dropna()"
      ],
      "execution_count": null,
      "outputs": [
        {
          "output_type": "execute_result",
          "data": {
            "text/html": [
              "<div>\n",
              "<style scoped>\n",
              "    .dataframe tbody tr th:only-of-type {\n",
              "        vertical-align: middle;\n",
              "    }\n",
              "\n",
              "    .dataframe tbody tr th {\n",
              "        vertical-align: top;\n",
              "    }\n",
              "\n",
              "    .dataframe thead th {\n",
              "        text-align: right;\n",
              "    }\n",
              "</style>\n",
              "<table border=\"1\" class=\"dataframe\">\n",
              "  <thead>\n",
              "    <tr style=\"text-align: right;\">\n",
              "      <th></th>\n",
              "      <th>Id_Cliente</th>\n",
              "      <th>id_Agencia</th>\n",
              "      <th>Frecuencia</th>\n",
              "      <th>Vol_Entrega</th>\n",
              "      <th>lat</th>\n",
              "      <th>lon</th>\n",
              "      <th>Vol_Total_Entrega</th>\n",
              "    </tr>\n",
              "  </thead>\n",
              "  <tbody>\n",
              "    <tr>\n",
              "      <th>0</th>\n",
              "      <td>1.0</td>\n",
              "      <td>A1</td>\n",
              "      <td>1.0</td>\n",
              "      <td>2.0</td>\n",
              "      <td>20.506052</td>\n",
              "      <td>-98.212377</td>\n",
              "      <td>2.0</td>\n",
              "    </tr>\n",
              "    <tr>\n",
              "      <th>1</th>\n",
              "      <td>2.0</td>\n",
              "      <td>A1</td>\n",
              "      <td>1.0</td>\n",
              "      <td>17.0</td>\n",
              "      <td>20.458128</td>\n",
              "      <td>-98.221248</td>\n",
              "      <td>17.0</td>\n",
              "    </tr>\n",
              "    <tr>\n",
              "      <th>2</th>\n",
              "      <td>3.0</td>\n",
              "      <td>A1</td>\n",
              "      <td>1.0</td>\n",
              "      <td>2.0</td>\n",
              "      <td>20.530427</td>\n",
              "      <td>-98.236860</td>\n",
              "      <td>2.0</td>\n",
              "    </tr>\n",
              "    <tr>\n",
              "      <th>3</th>\n",
              "      <td>4.0</td>\n",
              "      <td>A1</td>\n",
              "      <td>3.0</td>\n",
              "      <td>15.0</td>\n",
              "      <td>20.488655</td>\n",
              "      <td>-98.202940</td>\n",
              "      <td>45.0</td>\n",
              "    </tr>\n",
              "    <tr>\n",
              "      <th>4</th>\n",
              "      <td>5.0</td>\n",
              "      <td>A1</td>\n",
              "      <td>1.0</td>\n",
              "      <td>2.0</td>\n",
              "      <td>20.533253</td>\n",
              "      <td>-98.219669</td>\n",
              "      <td>2.0</td>\n",
              "    </tr>\n",
              "    <tr>\n",
              "      <th>...</th>\n",
              "      <td>...</td>\n",
              "      <td>...</td>\n",
              "      <td>...</td>\n",
              "      <td>...</td>\n",
              "      <td>...</td>\n",
              "      <td>...</td>\n",
              "      <td>...</td>\n",
              "    </tr>\n",
              "    <tr>\n",
              "      <th>3619</th>\n",
              "      <td>3620.0</td>\n",
              "      <td>A1</td>\n",
              "      <td>1.0</td>\n",
              "      <td>1.0</td>\n",
              "      <td>20.511046</td>\n",
              "      <td>-98.203215</td>\n",
              "      <td>1.0</td>\n",
              "    </tr>\n",
              "    <tr>\n",
              "      <th>3620</th>\n",
              "      <td>3621.0</td>\n",
              "      <td>A1</td>\n",
              "      <td>1.0</td>\n",
              "      <td>15.0</td>\n",
              "      <td>20.558651</td>\n",
              "      <td>-98.149706</td>\n",
              "      <td>15.0</td>\n",
              "    </tr>\n",
              "    <tr>\n",
              "      <th>3621</th>\n",
              "      <td>3622.0</td>\n",
              "      <td>A1</td>\n",
              "      <td>1.0</td>\n",
              "      <td>2.0</td>\n",
              "      <td>20.541300</td>\n",
              "      <td>-98.157300</td>\n",
              "      <td>2.0</td>\n",
              "    </tr>\n",
              "    <tr>\n",
              "      <th>3622</th>\n",
              "      <td>3623.0</td>\n",
              "      <td>A1</td>\n",
              "      <td>1.0</td>\n",
              "      <td>6.0</td>\n",
              "      <td>20.509200</td>\n",
              "      <td>-98.128000</td>\n",
              "      <td>6.0</td>\n",
              "    </tr>\n",
              "    <tr>\n",
              "      <th>3624</th>\n",
              "      <td>3625.0</td>\n",
              "      <td>A1</td>\n",
              "      <td>2.0</td>\n",
              "      <td>18.5</td>\n",
              "      <td>20.521772</td>\n",
              "      <td>-98.166209</td>\n",
              "      <td>37.0</td>\n",
              "    </tr>\n",
              "  </tbody>\n",
              "</table>\n",
              "<p>2955 rows × 7 columns</p>\n",
              "</div>"
            ],
            "text/plain": [
              "      Id_Cliente id_Agencia  ...        lon  Vol_Total_Entrega\n",
              "0            1.0         A1  ... -98.212377                2.0\n",
              "1            2.0         A1  ... -98.221248               17.0\n",
              "2            3.0         A1  ... -98.236860                2.0\n",
              "3            4.0         A1  ... -98.202940               45.0\n",
              "4            5.0         A1  ... -98.219669                2.0\n",
              "...          ...        ...  ...        ...                ...\n",
              "3619      3620.0         A1  ... -98.203215                1.0\n",
              "3620      3621.0         A1  ... -98.149706               15.0\n",
              "3621      3622.0         A1  ... -98.157300                2.0\n",
              "3622      3623.0         A1  ... -98.128000                6.0\n",
              "3624      3625.0         A1  ... -98.166209               37.0\n",
              "\n",
              "[2955 rows x 7 columns]"
            ]
          },
          "metadata": {
            "tags": []
          },
          "execution_count": 83
        }
      ]
    },
    {
      "cell_type": "markdown",
      "metadata": {
        "id": "AAW_T29W4QCe"
      },
      "source": [
        "### División del conjunto de datos"
      ]
    },
    {
      "cell_type": "code",
      "metadata": {
        "colab": {
          "base_uri": "https://localhost:8080/",
          "height": 198
        },
        "id": "wucPdPZ941Dc",
        "outputId": "b13da3ab-baa1-4f4e-9b54-2985516ed00e"
      },
      "source": [
        "data.head(5)"
      ],
      "execution_count": null,
      "outputs": [
        {
          "output_type": "execute_result",
          "data": {
            "text/html": [
              "<div>\n",
              "<style scoped>\n",
              "    .dataframe tbody tr th:only-of-type {\n",
              "        vertical-align: middle;\n",
              "    }\n",
              "\n",
              "    .dataframe tbody tr th {\n",
              "        vertical-align: top;\n",
              "    }\n",
              "\n",
              "    .dataframe thead th {\n",
              "        text-align: right;\n",
              "    }\n",
              "</style>\n",
              "<table border=\"1\" class=\"dataframe\">\n",
              "  <thead>\n",
              "    <tr style=\"text-align: right;\">\n",
              "      <th></th>\n",
              "      <th>Id_Cliente</th>\n",
              "      <th>id_Agencia</th>\n",
              "      <th>Frecuencia</th>\n",
              "      <th>Vol_Entrega</th>\n",
              "      <th>lat</th>\n",
              "      <th>lon</th>\n",
              "      <th>Vol_Total_Entrega</th>\n",
              "    </tr>\n",
              "  </thead>\n",
              "  <tbody>\n",
              "    <tr>\n",
              "      <th>0</th>\n",
              "      <td>1</td>\n",
              "      <td>A1</td>\n",
              "      <td>1</td>\n",
              "      <td>2.0</td>\n",
              "      <td>20.506052</td>\n",
              "      <td>-98.212377</td>\n",
              "      <td>2.0</td>\n",
              "    </tr>\n",
              "    <tr>\n",
              "      <th>1</th>\n",
              "      <td>2</td>\n",
              "      <td>A1</td>\n",
              "      <td>1</td>\n",
              "      <td>17.0</td>\n",
              "      <td>20.458128</td>\n",
              "      <td>-98.221248</td>\n",
              "      <td>17.0</td>\n",
              "    </tr>\n",
              "    <tr>\n",
              "      <th>2</th>\n",
              "      <td>3</td>\n",
              "      <td>A1</td>\n",
              "      <td>1</td>\n",
              "      <td>2.0</td>\n",
              "      <td>20.530427</td>\n",
              "      <td>-98.236860</td>\n",
              "      <td>2.0</td>\n",
              "    </tr>\n",
              "    <tr>\n",
              "      <th>4</th>\n",
              "      <td>5</td>\n",
              "      <td>A1</td>\n",
              "      <td>1</td>\n",
              "      <td>2.0</td>\n",
              "      <td>20.533253</td>\n",
              "      <td>-98.219669</td>\n",
              "      <td>2.0</td>\n",
              "    </tr>\n",
              "    <tr>\n",
              "      <th>5</th>\n",
              "      <td>6</td>\n",
              "      <td>A1</td>\n",
              "      <td>1</td>\n",
              "      <td>19.0</td>\n",
              "      <td>20.531060</td>\n",
              "      <td>-98.182642</td>\n",
              "      <td>19.0</td>\n",
              "    </tr>\n",
              "  </tbody>\n",
              "</table>\n",
              "</div>"
            ],
            "text/plain": [
              "   Id_Cliente id_Agencia  Frecuencia  ...        lat        lon  Vol_Total_Entrega\n",
              "0           1         A1           1  ...  20.506052 -98.212377                2.0\n",
              "1           2         A1           1  ...  20.458128 -98.221248               17.0\n",
              "2           3         A1           1  ...  20.530427 -98.236860                2.0\n",
              "4           5         A1           1  ...  20.533253 -98.219669                2.0\n",
              "5           6         A1           1  ...  20.531060 -98.182642               19.0\n",
              "\n",
              "[5 rows x 7 columns]"
            ]
          },
          "metadata": {
            "tags": []
          },
          "execution_count": 36
        }
      ]
    },
    {
      "cell_type": "code",
      "metadata": {
        "id": "lON0cgtv4WAt"
      },
      "source": [
        "\n",
        "# \n",
        "X = dataset.iloc[:, :-1].values \n",
        "y = dataset.iloc[:, 3].values \n",
        "\n",
        "\n",
        "# Dividir el data set en conjunto de entrenamiento y en conjunto de testing\n",
        "from sklearn.model_selection import train_test_split\n",
        "X_train, X_test, y_train, y_test = train_test_split(X, y,test_size = 0.2, random_state = 0)"
      ],
      "execution_count": null,
      "outputs": []
    },
    {
      "cell_type": "markdown",
      "metadata": {
        "id": "XCPBGQQf34aw"
      },
      "source": [
        "### Escalamiento de variables"
      ]
    },
    {
      "cell_type": "code",
      "metadata": {
        "id": "5rz3AznP2CA1"
      },
      "source": [
        "# Escalado de variables\n",
        "from sklearn.preprocessing import StandardScaler\n",
        "sc_X = StandardScaler()\n",
        "data = sc_X.fit_transform(data['Frecuencia']=1)\n",
        "X_test = sc_X.transform(X_test)"
      ],
      "execution_count": null,
      "outputs": []
    }
  ]
}